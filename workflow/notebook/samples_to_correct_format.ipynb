{
 "cells": [
  {
   "cell_type": "code",
   "execution_count": null,
   "id": "a8585bd8",
   "metadata": {},
   "outputs": [],
   "source": [
    "import pandas as pd"
   ]
  },
  {
   "cell_type": "markdown",
   "id": "36560126",
   "metadata": {},
   "source": [
    "###  Get sample list from cluster"
   ]
  },
  {
   "cell_type": "code",
   "execution_count": null,
   "id": "efeaf35e",
   "metadata": {},
   "outputs": [],
   "source": [
    "%%sh\n",
    "scp samples.wastewateronly.tsv ./"
   ]
  },
  {
   "cell_type": "code",
   "execution_count": null,
   "id": "a379cb39",
   "metadata": {},
   "outputs": [],
   "source": [
    "df = pd.read_csv(\"samples.wastewateronly.tsv\", sep=\"\\t\", names=[\"sample\", \"batch\", \"read_len\", \"primer\"])"
   ]
  },
  {
   "cell_type": "code",
   "execution_count": null,
   "id": "5c1b231d",
   "metadata": {},
   "outputs": [],
   "source": [
    "df = df[['sample','batch']]"
   ]
  },
  {
   "cell_type": "markdown",
   "id": "b6f04dce",
   "metadata": {},
   "source": [
    "### Get date of sample"
   ]
  },
  {
   "cell_type": "code",
   "execution_count": null,
   "id": "830146d1",
   "metadata": {},
   "outputs": [],
   "source": [
    "df['date'] = df['sample'].str.split(\"_\").str[3]"
   ]
  },
  {
   "cell_type": "markdown",
   "id": "ba8e1139",
   "metadata": {},
   "source": [
    "### Filter samples from April"
   ]
  },
  {
   "cell_type": "code",
   "execution_count": null,
   "id": "0b157efe",
   "metadata": {},
   "outputs": [],
   "source": [
    "df = df[df[\"date\"]==\"04\"][['sample','batch']]"
   ]
  },
  {
   "cell_type": "code",
   "execution_count": null,
   "id": "21e11373",
   "metadata": {},
   "outputs": [],
   "source": [
    "df.to_csv(\"../../config/samples.csv\")"
   ]
  },
  {
   "cell_type": "markdown",
   "id": "4d15ab47",
   "metadata": {},
   "source": [
    "### Remove samples list"
   ]
  },
  {
   "cell_type": "code",
   "execution_count": null,
   "id": "9b98003a",
   "metadata": {},
   "outputs": [],
   "source": [
    "%%sh\n",
    "rm samples.wastewateronly.tsv"
   ]
  }
 ],
 "metadata": {
  "kernelspec": {
   "display_name": "Python 3 (ipykernel)",
   "language": "python",
   "name": "python3"
  },
  "language_info": {
   "codemirror_mode": {
    "name": "ipython",
    "version": 3
   },
   "file_extension": ".py",
   "mimetype": "text/x-python",
   "name": "python",
   "nbconvert_exporter": "python",
   "pygments_lexer": "ipython3",
   "version": "3.9.0"
  }
 },
 "nbformat": 4,
 "nbformat_minor": 5
}
