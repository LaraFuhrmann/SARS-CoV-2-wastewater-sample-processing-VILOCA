{
 "cells": [
  {
   "cell_type": "code",
   "execution_count": 8,
   "id": "a8585bd8",
   "metadata": {},
   "outputs": [],
   "source": [
    "import pandas as pd"
   ]
  },
  {
   "cell_type": "markdown",
   "id": "36560126",
   "metadata": {},
   "source": [
    "Get sample list from cluster"
   ]
  },
  {
   "cell_type": "code",
   "execution_count": 9,
   "id": "efeaf35e",
   "metadata": {},
   "outputs": [],
   "source": [
    "%%sh\n",
    "scp lfuhrmann@euler.ethz.ch://cluster/project/pangolin/work-vp-test/samples.wastewateronly.tsv ./"
   ]
  },
  {
   "cell_type": "code",
   "execution_count": 10,
   "id": "a379cb39",
   "metadata": {},
   "outputs": [],
   "source": [
    "df = pd.read_csv(\"samples.wastewateronly.tsv\", sep=\"\\t\", names=[\"sample\", \"batch\", \"read_len\", \"primer\"])"
   ]
  },
  {
   "cell_type": "code",
   "execution_count": 11,
   "id": "5c1b231d",
   "metadata": {},
   "outputs": [],
   "source": [
    "df = df[['sample','batch']]"
   ]
  },
  {
   "cell_type": "markdown",
   "id": "ecf45977",
   "metadata": {},
   "source": [
    "## filter out only Zurich samples\n",
    "we are doing this as we cannot process all weekly samples so fast"
   ]
  },
  {
   "cell_type": "code",
   "execution_count": 12,
   "id": "87ac2239",
   "metadata": {},
   "outputs": [
    {
     "data": {
      "text/plain": [
       "(5616, 2)"
      ]
     },
     "execution_count": 12,
     "metadata": {},
     "output_type": "execute_result"
    }
   ],
   "source": [
    "df.shape"
   ]
  },
  {
   "cell_type": "code",
   "execution_count": 13,
   "id": "2de86f01",
   "metadata": {},
   "outputs": [],
   "source": [
    "df = df[df[\"sample\"].str.split(\"_\").str[1] ==\"10\"]"
   ]
  },
  {
   "cell_type": "code",
   "execution_count": 14,
   "id": "9ee3cc70",
   "metadata": {},
   "outputs": [
    {
     "data": {
      "text/plain": [
       "(735, 2)"
      ]
     },
     "execution_count": 14,
     "metadata": {},
     "output_type": "execute_result"
    }
   ],
   "source": [
    "df.shape"
   ]
  },
  {
   "cell_type": "markdown",
   "id": "b6f04dce",
   "metadata": {},
   "source": [
    "## get date of sample"
   ]
  },
  {
   "cell_type": "code",
   "execution_count": 15,
   "id": "830146d1",
   "metadata": {},
   "outputs": [],
   "source": [
    "df['date'] = df['sample'].str.split(\"_\").str[3]"
   ]
  },
  {
   "cell_type": "code",
   "execution_count": 16,
   "id": "0b157efe",
   "metadata": {},
   "outputs": [],
   "source": [
    "# search for April month\n",
    "\n",
    "df = df[df[\"date\"]==\"04\"][['sample','batch']]"
   ]
  },
  {
   "cell_type": "code",
   "execution_count": 19,
   "id": "da688003",
   "metadata": {},
   "outputs": [
    {
     "data": {
      "text/plain": [
       "(48, 2)"
      ]
     },
     "execution_count": 19,
     "metadata": {},
     "output_type": "execute_result"
    }
   ],
   "source": [
    "df.shape"
   ]
  },
  {
   "cell_type": "code",
   "execution_count": 23,
   "id": "b176a2f9",
   "metadata": {},
   "outputs": [],
   "source": [
    "df = df.sort_values(\"sample\").head(10)"
   ]
  },
  {
   "cell_type": "code",
   "execution_count": 24,
   "id": "d911cb87",
   "metadata": {},
   "outputs": [
    {
     "data": {
      "text/plain": [
       "(10, 2)"
      ]
     },
     "execution_count": 24,
     "metadata": {},
     "output_type": "execute_result"
    }
   ],
   "source": [
    "df.shape"
   ]
  },
  {
   "cell_type": "code",
   "execution_count": 26,
   "id": "21e11373",
   "metadata": {},
   "outputs": [],
   "source": [
    "df.to_csv(\"../../config/samples.csv\")"
   ]
  },
  {
   "cell_type": "code",
   "execution_count": 27,
   "id": "9b98003a",
   "metadata": {},
   "outputs": [],
   "source": [
    "%%sh\n",
    "rm samples.wastewateronly.tsv"
   ]
  },
  {
   "cell_type": "code",
   "execution_count": null,
   "id": "3aa99a93",
   "metadata": {},
   "outputs": [],
   "source": []
  },
  {
   "cell_type": "markdown",
   "id": "db84fa57",
   "metadata": {},
   "source": [
    "## old code "
   ]
  },
  {
   "cell_type": "code",
   "execution_count": 8,
   "id": "257cc46c",
   "metadata": {},
   "outputs": [
    {
     "data": {
      "text/html": [
       "<div>\n",
       "<style scoped>\n",
       "    .dataframe tbody tr th:only-of-type {\n",
       "        vertical-align: middle;\n",
       "    }\n",
       "\n",
       "    .dataframe tbody tr th {\n",
       "        vertical-align: top;\n",
       "    }\n",
       "\n",
       "    .dataframe thead th {\n",
       "        text-align: right;\n",
       "    }\n",
       "</style>\n",
       "<table border=\"1\" class=\"dataframe\">\n",
       "  <thead>\n",
       "    <tr style=\"text-align: right;\">\n",
       "      <th></th>\n",
       "      <th>sample</th>\n",
       "      <th>batch</th>\n",
       "      <th>read_len</th>\n",
       "      <th>primer</th>\n",
       "    </tr>\n",
       "  </thead>\n",
       "  <tbody>\n",
       "    <tr>\n",
       "      <th>0</th>\n",
       "      <td>A1_05_2023_03_08</td>\n",
       "      <td>20230324_HML35DRX2</td>\n",
       "      <td>250</td>\n",
       "      <td>v41</td>\n",
       "    </tr>\n",
       "    <tr>\n",
       "      <th>1</th>\n",
       "      <td>A2_10_2023_03_09</td>\n",
       "      <td>20230324_HML35DRX2</td>\n",
       "      <td>250</td>\n",
       "      <td>v41</td>\n",
       "    </tr>\n",
       "    <tr>\n",
       "      <th>2</th>\n",
       "      <td>A3_16_2023_03_10</td>\n",
       "      <td>20230324_HML35DRX2</td>\n",
       "      <td>250</td>\n",
       "      <td>v41</td>\n",
       "    </tr>\n",
       "    <tr>\n",
       "      <th>3</th>\n",
       "      <td>A4_17_2023_03_11</td>\n",
       "      <td>20230324_HML35DRX2</td>\n",
       "      <td>250</td>\n",
       "      <td>v41</td>\n",
       "    </tr>\n",
       "    <tr>\n",
       "      <th>4</th>\n",
       "      <td>A5_19_2023_03_12</td>\n",
       "      <td>20230324_HML35DRX2</td>\n",
       "      <td>250</td>\n",
       "      <td>v41</td>\n",
       "    </tr>\n",
       "    <tr>\n",
       "      <th>...</th>\n",
       "      <td>...</td>\n",
       "      <td>...</td>\n",
       "      <td>...</td>\n",
       "      <td>...</td>\n",
       "    </tr>\n",
       "    <tr>\n",
       "      <th>5380</th>\n",
       "      <td>410279_151220eg17_G2</td>\n",
       "      <td>20201223_HWKGTDRXX</td>\n",
       "      <td>250</td>\n",
       "      <td>v3</td>\n",
       "    </tr>\n",
       "    <tr>\n",
       "      <th>5381</th>\n",
       "      <td>410256_141220eg19_B3</td>\n",
       "      <td>20201223_HWKGTDRXX</td>\n",
       "      <td>250</td>\n",
       "      <td>v3</td>\n",
       "    </tr>\n",
       "    <tr>\n",
       "      <th>5382</th>\n",
       "      <td>420389_221220eg41_B1</td>\n",
       "      <td>20201230_HWKFKDRXX</td>\n",
       "      <td>250</td>\n",
       "      <td>v3</td>\n",
       "    </tr>\n",
       "    <tr>\n",
       "      <th>5383</th>\n",
       "      <td>420394_221220eg44_B3</td>\n",
       "      <td>20201230_HWKFKDRXX</td>\n",
       "      <td>250</td>\n",
       "      <td>v3</td>\n",
       "    </tr>\n",
       "    <tr>\n",
       "      <th>5384</th>\n",
       "      <td>471206_280121eg1_G6</td>\n",
       "      <td>20210205_HWL33DRXX</td>\n",
       "      <td>250</td>\n",
       "      <td>v3</td>\n",
       "    </tr>\n",
       "  </tbody>\n",
       "</table>\n",
       "<p>5385 rows × 4 columns</p>\n",
       "</div>"
      ],
      "text/plain": [
       "                    sample               batch  read_len primer\n",
       "0         A1_05_2023_03_08  20230324_HML35DRX2       250    v41\n",
       "1         A2_10_2023_03_09  20230324_HML35DRX2       250    v41\n",
       "2         A3_16_2023_03_10  20230324_HML35DRX2       250    v41\n",
       "3         A4_17_2023_03_11  20230324_HML35DRX2       250    v41\n",
       "4         A5_19_2023_03_12  20230324_HML35DRX2       250    v41\n",
       "...                    ...                 ...       ...    ...\n",
       "5380  410279_151220eg17_G2  20201223_HWKGTDRXX       250     v3\n",
       "5381  410256_141220eg19_B3  20201223_HWKGTDRXX       250     v3\n",
       "5382  420389_221220eg41_B1  20201230_HWKFKDRXX       250     v3\n",
       "5383  420394_221220eg44_B3  20201230_HWKFKDRXX       250     v3\n",
       "5384   471206_280121eg1_G6  20210205_HWL33DRXX       250     v3\n",
       "\n",
       "[5385 rows x 4 columns]"
      ]
     },
     "execution_count": 8,
     "metadata": {},
     "output_type": "execute_result"
    }
   ],
   "source": [
    "df"
   ]
  },
  {
   "cell_type": "code",
   "execution_count": 3,
   "id": "765be4f0",
   "metadata": {},
   "outputs": [],
   "source": [
    "filename = \"samples_of_interest.txt\"\n",
    "\n",
    "with open(filename) as file:\n",
    "    list_samples = [line.rstrip() for line in file]"
   ]
  },
  {
   "cell_type": "code",
   "execution_count": 6,
   "id": "c2e69423",
   "metadata": {},
   "outputs": [
    {
     "data": {
      "text/plain": [
       "'20220422_HTN5VDRXY'"
      ]
     },
     "execution_count": 6,
     "metadata": {},
     "output_type": "execute_result"
    }
   ],
   "source": [
    "df[df[\"sample\"]==\"A2_10_2022_04_07\"][\"batch\"].values[0]"
   ]
  },
  {
   "cell_type": "code",
   "execution_count": 7,
   "id": "83ac2f4d",
   "metadata": {},
   "outputs": [],
   "source": [
    "df_out = pd.DataFrame()\n",
    "\n",
    "for sample in list_samples:\n",
    "    temp_dict = {'sample': [sample], \n",
    "                 'batch': [df[df[\"sample\"]==sample][\"batch\"].values[0]]}\n",
    "    \n",
    "    df_out = pd.concat([df_out, pd.DataFrame(temp_dict)], ignore_index=True)"
   ]
  },
  {
   "cell_type": "code",
   "execution_count": 9,
   "id": "c486abf7",
   "metadata": {},
   "outputs": [],
   "source": [
    "df_out.to_csv(\"../config/samples.csv\")"
   ]
  },
  {
   "cell_type": "code",
   "execution_count": null,
   "id": "fdd10578",
   "metadata": {},
   "outputs": [],
   "source": []
  }
 ],
 "metadata": {
  "kernelspec": {
   "display_name": "Python 3 (ipykernel)",
   "language": "python",
   "name": "python3"
  },
  "language_info": {
   "codemirror_mode": {
    "name": "ipython",
    "version": 3
   },
   "file_extension": ".py",
   "mimetype": "text/x-python",
   "name": "python",
   "nbconvert_exporter": "python",
   "pygments_lexer": "ipython3",
   "version": "3.9.0"
  }
 },
 "nbformat": 4,
 "nbformat_minor": 5
}
